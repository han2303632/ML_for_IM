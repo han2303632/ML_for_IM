{
 "cells": [
  {
   "cell_type": "code",
   "execution_count": 1,
   "metadata": {},
   "outputs": [],
   "source": [
    "from Utils import Util\n",
    "from Agent import Agent\n",
    "from Env import Env\n",
    "import numpy as np\n",
    "import torch.nn as nn\n",
    "import torch\n",
    "import numpy as np\n",
    "\n",
    "\n",
    "numEpoch = 30\n",
    "k = 10\n",
    "windowSize = 2\n",
    "\n",
    "util = Util()\n",
    "graph, embedding, graph_size, top_nodes, node2neighbors, idx2node, node2idx = util.load_dataset(\"./dataset/\", 10, 0.003)"
   ]
  },
  {
   "cell_type": "code",
   "execution_count": 2,
   "metadata": {},
   "outputs": [],
   "source": [
    "embedding2 = nn.Embedding(363, 2)\n",
    "embedding2.weight = nn.Parameter(torch.from_numpy(embedding))\n",
    "embedding2.weight.requires_grad = False"
   ]
  },
  {
   "cell_type": "code",
   "execution_count": 26,
   "metadata": {},
   "outputs": [
    {
     "name": "stdout",
     "output_type": "stream",
     "text": [
      "torch.Size([363, 2])\n"
     ]
    }
   ],
   "source": [
    "new_embedding = torch.from_numpy(embedding)\n",
    "print(new_embedding.size())"
   ]
  },
  {
   "cell_type": "code",
   "execution_count": 50,
   "metadata": {},
   "outputs": [],
   "source": [
    "lin1 = nn.Linear(2, 2+1)\n",
    "lin2 = nn.Linear(2, 2+1)\n",
    "lin3 = nn.Linear(2, 2+1)\n",
    "lin4 = nn.Linear(3 *(2 + 1), 1)\n",
    "\n",
    "\n",
    "seeds_idx = torch.tensor([1,2,4,5])\n",
    "candidates_idx = torch.tensor([6,7,8,9,10,11,12,23,45,34])\n",
    "\n",
    "seeds_emb = embedding2(seeds_idx).float()\n",
    "candidates_emb = embedding2(candidates_idx).float()\n",
    "\n",
    "seeds_max,_ = torch.max(seeds_emb, 0)\n",
    "candidates_max,_ = torch.max(candidates_emb, 0)\n",
    "\n",
    "seeds_max_list = torch.stack([seeds_max.clone() for i in range(10)], 0)\n",
    "candidates_max_list = torch.stack([candidates_max.clone() for i in range(10)], 0)\n",
    "\n",
    "Cat = torch.cat((lin1(candidates_max_list), lin2(seeds_max_list), lin3(candidates_emb)), dim = 1)\n",
    "Q = lin4(Cat).reshape(10)"
   ]
  },
  {
   "cell_type": "code",
   "execution_count": 48,
   "metadata": {},
   "outputs": [
    {
     "name": "stdout",
     "output_type": "stream",
     "text": [
      "tensor([0.5449, 0.6461, 0.5137, 0.5112, 0.5321, 0.6705, 0.5795, 0.3295, 0.6496,\n",
      "        0.5954], grad_fn=<ViewBackward>)\n"
     ]
    }
   ],
   "source": [
    "print(Q.reshape(10))\n",
    "# finalQ = torch.cat(Q)"
   ]
  },
  {
   "cell_type": "code",
   "execution_count": 3,
   "metadata": {},
   "outputs": [],
   "source": [
    "test1 = torch.tensor([[1],[2],[3]])\n",
    "test2 = torch.tensor([[1],[2],[3]])\n"
   ]
  },
  {
   "cell_type": "code",
   "execution_count": 9,
   "metadata": {},
   "outputs": [
    {
     "data": {
      "text/plain": [
       "array([423])"
      ]
     },
     "execution_count": 9,
     "metadata": {},
     "output_type": "execute_result"
    }
   ],
   "source": [
    "action = np.random.choice([111,222,333,444,423,345,1236], size=1)\n",
    "action"
   ]
  },
  {
   "cell_type": "code",
   "execution_count": 4,
   "metadata": {},
   "outputs": [
    {
     "name": "stdout",
     "output_type": "stream",
     "text": [
      "tensor([[1, 2, 1, 2],\n",
      "        [3, 4, 3, 4],\n",
      "        [5, 6, 5, 6],\n",
      "        [7, 8, 7, 8]])\n"
     ]
    }
   ],
   "source": [
    "import torch\n",
    "data1 = torch.tensor([[1,2],[3,4],[5,6],[7,8]])\n",
    "data2 = torch.tensor([[1,2],[3,4],[5,6],[7,8]])\n",
    "\n",
    "data3 = torch.nn.ReLU()(torch.cat((data1, data2), dim=1))\n",
    "print(data3)"
   ]
  },
  {
   "cell_type": "code",
   "execution_count": null,
   "metadata": {},
   "outputs": [],
   "source": [
    "加载图\n",
    "构造数据结构\n",
    "node2weight\n",
    "in_neighbors\n",
    "out_neighbors"
   ]
  }
 ],
 "metadata": {
  "kernelspec": {
   "display_name": "Python 3",
   "language": "python",
   "name": "python3"
  },
  "language_info": {
   "codemirror_mode": {
    "name": "ipython",
    "version": 3
   },
   "file_extension": ".py",
   "mimetype": "text/x-python",
   "name": "python",
   "nbconvert_exporter": "python",
   "pygments_lexer": "ipython3",
   "version": "3.6.6"
  }
 },
 "nbformat": 4,
 "nbformat_minor": 4
}
